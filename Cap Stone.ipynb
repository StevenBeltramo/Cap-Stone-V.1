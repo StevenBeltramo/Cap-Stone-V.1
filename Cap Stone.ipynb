{
 "cells": [
  {
   "cell_type": "code",
   "execution_count": 70,
   "metadata": {},
   "outputs": [],
   "source": [
    "import numpy as np\n",
    "import pandas as pd\n",
    "import scipy\n",
    "import matplotlib.pyplot as plt\n",
    "import matplotlib"
   ]
  },
  {
   "cell_type": "code",
   "execution_count": 71,
   "metadata": {},
   "outputs": [],
   "source": [
    "df = pd.read_csv('C:\\\\Users\\\\STEVEN\\\\Documents\\\\Thinkful\\\\Files\\\\bike_data.csv')\n",
    "temps = pd.read_csv('C:\\\\Users\\\\STEVEN\\\\Documents\\\\Thinkful\\\\weather_data_v2.csv')"
   ]
  },
  {
   "cell_type": "markdown",
   "metadata": {},
   "source": [
    "# Datasets\n",
    "For this capstone project,  I will be looking at the bicycling data collected in Chattanooga, Tennesse, referred to as 'Chat' from now on, from their Bike Chat service.  This data set was originally found through Socrata(see link https://data.chattlibrary.org/Transportation/Bike-Chattanooga-Trip-Data/8yba-nwv8Clients.) It contains about 243,000 individual rides recorded from 2012-2017.  It contains information regarding the start station, end station, start time and date, end time and date, individual client id number and trip duration.\n",
    "\n",
    "Another dataset was pulled from NOAA and it contains the local weather from the airport for everyday throughout our time frame.  This dataset includes mean temp, high temp, low temp, wind speeds, precipitation, types of precipitation, amount of precipitation.  \n",
    "\n",
    "A bit more about this data is that clients have the opportunity to purchase either day-week passes or year long passes. These two are split into groups called \"subscribers\" and \"customers.\"  Subscribers for annual passes and customers for short term clients.  There is a seperate class called dependent, but this appears to be made up mostly of test data.  \n"
   ]
  },
  {
   "cell_type": "markdown",
   "metadata": {},
   "source": [
    "# Clarity to Data\n",
    "\n",
    "We are working with two csv files, one for bikes and one for temperatures.  I want to make sure both are properly formatted before I begin.  \n",
    "\n",
    "To start, we take a look at the size and struture of the two csv files."
   ]
  },
  {
   "cell_type": "code",
   "execution_count": 3,
   "metadata": {},
   "outputs": [
    {
     "name": "stdout",
     "output_type": "stream",
     "text": [
      "(243417, 15)\n",
      "(2558, 22)\n",
      "\n",
      "\n",
      "MemberType                        Subscriber\n",
      "TripDurationSec                          235\n",
      "BikeID                                C00198\n",
      "StartDay                             Tuesday\n",
      "StartDateTime               11/27/2012 17:17\n",
      "StartDate                         11/27/2012\n",
      "StartTime                              17:17\n",
      "StartStationName    Market St & ML King Blvd\n",
      "StartStationID                          1325\n",
      "EndDay                               Tuesday\n",
      "EndDateTime                 11/27/2012 17:21\n",
      "EndDate                           11/27/2012\n",
      "EndTime                                17:21\n",
      "EndStationName         Market St & Cowart St\n",
      "EndStationID                            1311\n",
      "Name: 0, dtype: object\n",
      "\n",
      "\n",
      "STN---         723240\n",
      "WBAN            13882\n",
      " YEARMODA    20110101\n",
      "   TEMP          56.5\n",
      "                   24\n",
      "   DEWP          51.9\n",
      "  .1               24\n",
      "  SLP          1016.7\n",
      "  .2               14\n",
      "  STP           991.3\n",
      "  .3               24\n",
      " VISIB            5.7\n",
      "  .4               24\n",
      "  WDSP            5.4\n",
      "  .5               24\n",
      " MXSPD             15\n",
      "  GUST             21\n",
      "   MAX             64\n",
      "  MIN            46.9\n",
      "PRCP            0.80G\n",
      "SNDP            999.9\n",
      " FRSHTT         10010\n",
      "Name: 0, dtype: object\n"
     ]
    }
   ],
   "source": [
    "print(df.shape)\n",
    "print(temps.shape)\n",
    "\n",
    "print('\\n')\n",
    "print(df.loc[0,:])\n",
    "print('\\n')\n",
    "print(temps.loc[0,:])"
   ]
  },
  {
   "cell_type": "code",
   "execution_count": 4,
   "metadata": {},
   "outputs": [
    {
     "name": "stdout",
     "output_type": "stream",
     "text": [
      "STN---        723240\n",
      "WBAN           13882\n",
      "YEARMODA    20110101\n",
      "TEMP            56.5\n",
      "                  24\n",
      "DEWP            51.9\n",
      ".1                24\n",
      "SLP           1016.7\n",
      ".2                14\n",
      "STP            991.3\n",
      ".3                24\n",
      "VISIB            5.7\n",
      ".4                24\n",
      "WDSP             5.4\n",
      ".5                24\n",
      "MXSPD             15\n",
      "GUST              21\n",
      "MAX               64\n",
      "MIN             46.9\n",
      "PRCP           0.80G\n",
      "SNDP           999.9\n",
      "FRSHTT         10010\n",
      "Name: 0, dtype: object\n"
     ]
    }
   ],
   "source": [
    "#As we can see the temp data looks skewed and may be pulling in extra white\n",
    "#spaces. Let's adjust.\n",
    "temps = temps.rename(columns=lambda x: x.strip())\n",
    "\n",
    "print(temps.loc[0,:])\n",
    "\n"
   ]
  },
  {
   "cell_type": "markdown",
   "metadata": {},
   "source": [
    "Much better.\n",
    "Let's begin investigating the data by first seperating out the subscriber and the customer data."
   ]
  },
  {
   "cell_type": "code",
   "execution_count": 5,
   "metadata": {},
   "outputs": [],
   "source": [
    "subscriber_data = df[df['MemberType'] == 'Subscriber']\n",
    "customer_data = df[df['MemberType'] == 'Customer']\n"
   ]
  },
  {
   "cell_type": "markdown",
   "metadata": {},
   "source": [
    "Now that our populations are conveniently split let's pose our three questions we will be trying to answer.  "
   ]
  },
  {
   "cell_type": "markdown",
   "metadata": {},
   "source": [
    "# Questions:\n",
    "\n",
    "1.  Who uses bicycles longer, customers or subscribers? Are the bicycle usage rates normally distributed?  What kind of distribution do they represent?\n",
    "\n",
    "2. What stations are the most popular?  Are there certain areas that are popular for both subscribers and customers?  Are there a significant amount of round trip bike rides or one way rides? \n",
    "\n",
    "3. Finally what are the overall trends of bicycle usage?  Throughout the programs life?  On a month to month basis? Is there a certain time of day when the bicycles are being used? What is temperature's effect on bicycle riding?  Is it significant?\n"
   ]
  },
  {
   "cell_type": "markdown",
   "metadata": {},
   "source": [
    "# Question 1:\n",
    "\n",
    "Who uses bicycles longer, customers or subscribers? Are the bicycle usage rates normally distributed? What kind of distribution do they represent?"
   ]
  },
  {
   "cell_type": "code",
   "execution_count": 72,
   "metadata": {},
   "outputs": [
    {
     "name": "stdout",
     "output_type": "stream",
     "text": [
      "21.782466243530717\n",
      "687.4073327976847\n"
     ]
    }
   ],
   "source": [
    "#We will start by pulling an average amount of seconds spent on bicycles by\n",
    "#customers and subscribers.  \n",
    "subscriber_secs = subscriber_data.TripDurationSec.mean() \n",
    "customer_secs = customer_data.TripDurationSec.mean()\n",
    "\n",
    "#Seconds can be frustrating to easily comprehend let's convert to minutes \n",
    "subscriber_mins = subscriber_secs / 60\n",
    "customer_mins = customer_secs / 60\n",
    "\n",
    "print(subscriber_mins)\n",
    "print(customer_mins)\n",
    "\n"
   ]
  },
  {
   "cell_type": "code",
   "execution_count": 8,
   "metadata": {
    "scrolled": true
   },
   "outputs": [
    {
     "data": {
      "text/plain": [
       "Text(0.5,1,'Average Time Use Per Ride')"
      ]
     },
     "execution_count": 8,
     "metadata": {},
     "output_type": "execute_result"
    },
    {
     "data": {
      "image/png": "[encoded data removed]",
      "text/plain": [
       "<Figure size 432x288 with 1 Axes>"
      ]
     },
     "metadata": {},
     "output_type": "display_data"
    }
   ],
   "source": [
    "#Perfect now lets use this data to create a bar graph\n",
    "\n",
    "objects = ('Customer', 'Subscriber')\n",
    "y_pos = np.arange(len(objects))\n",
    "time = [customer_mins, subscriber_mins]\n",
    " \n",
    "\n",
    "plt.bar(y_pos, time, align='center', alpha=.5)\n",
    "plt.xticks(y_pos, objects)\n",
    "plt.ylabel('Minutes')\n",
    "plt.title('Average Time Use Per Ride')"
   ]
  },
  {
   "cell_type": "markdown",
   "metadata": {},
   "source": [
    "As you can see the graph shows that the average subscriber uses the bicycle significantly less than the average customer. \n",
    "This seems slightly suspect since the customer will be billed for any extra time over 60 minutes and it appears that the average customer is renting the bicycles for about 11.5 hours.\n",
    "At this time we will attempt to isolate any outliers.  "
   ]
  },
  {
   "cell_type": "markdown",
   "metadata": {},
   "source": [
    "We will use a cut off of one week, assuming anything longer than that is stolen.  The actual data is probably somewhat smaller but we want to be able to pull from feasible potential data.  \n"
   ]
  },
  {
   "cell_type": "code",
   "execution_count": 11,
   "metadata": {},
   "outputs": [],
   "source": [
    "#now to remove the outliers\n",
    "normalized_df = df[df['TripDurationSec'] < 86400]\n",
    "\n",
    "normalized_subscriber_data = normalized_df[normalized_df['MemberType'] == 'Subscriber']\n",
    "normalized_customer_data = normalized_df[normalized_df['MemberType'] == 'Customer']\n",
    "\n",
    "#Now to pull from the mean time bikes were in use\n",
    "normalized_subscriber_secs = normalized_subscriber_data.TripDurationSec.mean() \n",
    "normalized_customer_secs = normalized_customer_data.TripDurationSec.mean()\n",
    "\n",
    "normalized_subscriber_mins = normalized_subscriber_secs / 60\n",
    "normalized_customer_mins = normalized_customer_secs / 60\n",
    "\n"
   ]
  },
  {
   "cell_type": "code",
   "execution_count": 15,
   "metadata": {},
   "outputs": [
    {
     "data": {
      "text/plain": [
       "Text(0.5,1,'Average Time Use Per Ride')"
      ]
     },
     "execution_count": 15,
     "metadata": {},
     "output_type": "execute_result"
    },
    {
     "data": {
      "image/png": "[encoded data removed]",
      "text/plain": [
       "<Figure size 432x288 with 1 Axes>"
      ]
     },
     "metadata": {},
     "output_type": "display_data"
    }
   ],
   "source": [
    "#Time to toss it in a graph\n",
    "\n",
    "objects = ('Customer', 'Subscriber')\n",
    "y_pos = np.arange(len(objects))\n",
    "time = [normalized_customer_mins, normalized_subscriber_mins]\n",
    " \n",
    "\n",
    "plt.bar(y_pos, time, align='center', alpha=.5)\n",
    "plt.xticks(y_pos, objects)\n",
    "plt.ylabel('Minutes')\n",
    "plt.title('Average Time Use Per Ride')"
   ]
  },
  {
   "cell_type": "markdown",
   "metadata": {},
   "source": [
    "This seems a bit more of what we might expect from this data.  This result makes me believe there may be some test data or entry errors in the data that were significantly pushing out the amount of time a bike was used.  Or perhaps some bicycle's journey never ended.  \n",
    "\n",
    "One thing that is interesting would be how many rides go over the 1 hour mark and are thus charged a fee by the bike service. \n"
   ]
  },
  {
   "cell_type": "code",
   "execution_count": 130,
   "metadata": {},
   "outputs": [
    {
     "data": {
      "text/plain": [
       "Text(0.5,0,'Data Sets')"
      ]
     },
     "execution_count": 130,
     "metadata": {},
     "output_type": "execute_result"
    },
    {
     "data": {
      "image/png": "[encoded data removed]",
      "text/plain": [
       "<Figure size 720x360 with 2 Axes>"
      ]
     },
     "metadata": {},
     "output_type": "display_data"
    }
   ],
   "source": [
    "#Let's isolate for an hour or less and compare.  \n",
    "\n",
    "\n",
    "#Change these graphs to box plots!!!!!!!!!!\n",
    "\n",
    "hour_df = df[df['TripDurationSec'] <= 3600]\n",
    "hour_subscriber_data = hour_df[hour_df['MemberType'] == 'Subscriber']\n",
    "hour_customer_data = hour_df[hour_df['MemberType'] == 'Customer']\n",
    "\n",
    "hour_subscriber_mins = (hour_subscriber_data.TripDurationSec)/60 \n",
    "hour_customer_mins = (hour_customer_data.TripDurationSec)/60\n",
    "\n",
    "week_subscriber_mins = normalized_subscriber_data.TripDurationSec / 60 \n",
    "week_customer_mins = normalized_customer_data.TripDurationSec / 60\n",
    "dataset=[hour_subscriber_mins, hour_customer_mins, week_subscriber_mins, week_customer_mins]\n",
    "\n",
    "plt.figure(figsize=(10,5))\n",
    "plt.subplot(1,2,1)    \n",
    "plt.boxplot(dataset[:2], showmeans=True)\n",
    "plt.xticks(range(1,3), ('Hour Subscriber', 'Hour Customer'))\n",
    "plt.title('Distribution of Hour Rides')\n",
    "plt.ylabel('Rides (Min)')\n",
    "plt.xlabel('Data Sets')\n",
    "\n",
    "plt.subplot(1,2,2)\n",
    "plt.boxplot(dataset[2:4], showmeans=True, manage_xticks=True)\n",
    "plt.xticks(range(1,3),('Week Subscriber', 'Week Customer'))\n",
    "plt.title('Distribution of Week Rides')\n",
    "plt.ylabel('Rides (Min)')\n",
    "plt.xlabel('Data Sets')"
   ]
  },
  {
   "cell_type": "markdown",
   "metadata": {},
   "source": [
    "This is interesting.  Subscriber rides are more or less the same, but the customer is significantly different.  Suggesting that customers are more apt to go over.  Perhaps viewing it as a one time cost and the subscriber's know better.  "
   ]
  },
  {
   "cell_type": "markdown",
   "metadata": {},
   "source": [
    "Now that we have been able to see the seperation of different bicycle rides. Lets find the distributions and check for normaility between the two different groups.  For when they are riding within the one hour free period."
   ]
  },
  {
   "cell_type": "code",
   "execution_count": 75,
   "metadata": {},
   "outputs": [
    {
     "data": {
      "text/plain": [
       "<matplotlib.lines.Line2D at 0x18f42f70>"
      ]
     },
     "execution_count": 75,
     "metadata": {},
     "output_type": "execute_result"
    },
    {
     "data": {
      "image/png": "[encoded data removed]",
      "text/plain": [
       "<Figure size 1080x360 with 2 Axes>"
      ]
     },
     "metadata": {},
     "output_type": "display_data"
    }
   ],
   "source": [
    "plt.figure(figsize=(15,5))\n",
    "\n",
    "plt.subplot(1,2,1)\n",
    "plt.hist(hour_customer_data['TripDurationSec']/60, bins=40)\n",
    "plt.xlabel('Minutes on ride')\n",
    "plt.title('Distribution of Customer Rides')\n",
    "plt.axvline((hour_customer_data['TripDurationSec']/60).mean(), color='r',linestyle='solid')\n",
    "plt.axvline((hour_customer_data['TripDurationSec']/60).median(), color='r',linestyle='dashed')\n",
    "\n",
    "plt.subplot(1,2,2)\n",
    "plt.hist(hour_subscriber_data['TripDurationSec']/60, bins=40)\n",
    "plt.xlabel('Minutes on ride')\n",
    "plt.title('Distribution of Subscriber Rides')\n",
    "plt.axvline((hour_subscriber_data['TripDurationSec']/60).mean(), color='r',linestyle='solid')\n",
    "plt.axvline((hour_subscriber_data['TripDurationSec']/60).median(), color='r',linestyle='dashed')"
   ]
  },
  {
   "cell_type": "markdown",
   "metadata": {},
   "source": [
    "This is very interesting.  In the customer rides there is a large porportion of rides that seem to never have really started, but for the rest of the time there appears to be an almost equal likelihood of any length of ride.  Our Subscriber distribution seems to represent an exponential decay graph. "
   ]
  },
  {
   "cell_type": "code",
   "execution_count": 23,
   "metadata": {},
   "outputs": [
    {
     "name": "stdout",
     "output_type": "stream",
     "text": [
      "Customer Data\n",
      "count    149010.000000\n",
      "mean         28.557202\n",
      "std          16.988399\n",
      "min           0.000000\n",
      "25%          13.716667\n",
      "50%          28.283333\n",
      "75%          43.316667\n",
      "max          60.000000\n",
      "Name: TripDurationSec, dtype: float64\n",
      "Variance = 288.61\n",
      "\n",
      "\n",
      "Subscriber Data\n",
      "count    67131.000000\n",
      "mean        13.293701\n",
      "std         13.354565\n",
      "min          0.016667\n",
      "25%          4.550000\n",
      "50%          8.200000\n",
      "75%         16.333333\n",
      "max         59.983333\n",
      "Name: TripDurationSec, dtype: float64\n",
      "Variance = 178.34\n"
     ]
    }
   ],
   "source": [
    "#now that we have created a histogram for the two data set lets take a closer look \n",
    "#at the individual statistics.\n",
    "print('Customer Data')\n",
    "print((hour_customer_data.TripDurationSec/60).describe())\n",
    "print('Variance = {}'.format(round((hour_customer_data.TripDurationSec/60).var(ddof=1),2)))\n",
    "print('\\n')\n",
    "print('Subscriber Data')\n",
    "print((hour_subscriber_data.TripDurationSec/60).describe())\n",
    "print('Variance = {}'.format(round((hour_subscriber_data.TripDurationSec/60).var(ddof=1),2)))"
   ]
  },
  {
   "cell_type": "markdown",
   "metadata": {},
   "source": [
    "The variance echoes the facts of the graph. Especially with the large segment of 0 minute rides.  This appears to be what we would expect.  "
   ]
  },
  {
   "cell_type": "markdown",
   "metadata": {},
   "source": [
    "Now that we've seen the graphs and been able to see a bit of information about them we shall now complete a qq plot to see if there is any normal distribution.  We will be plotting against a graph with a mean of 0 and standard deviation of 1"
   ]
  },
  {
   "cell_type": "code",
   "execution_count": 29,
   "metadata": {},
   "outputs": [
    {
     "data": {
      "image/png": "[encoded data removed]",
      "text/plain": [
       "<Figure size 1080x360 with 2 Axes>"
      ]
     },
     "metadata": {},
     "output_type": "display_data"
    }
   ],
   "source": [
    "subscriber_dist = hour_subscriber_data[hour_subscriber_data['TripDurationSec'].notnull()]['TripDurationSec'].values\n",
    "norm_subscriber = np.random.normal(0, 1, len(hour_subscriber_data['TripDurationSec'].dropna()))  \n",
    "customer_dist = hour_customer_data[hour_customer_data['TripDurationSec'].notnull()]['TripDurationSec'].values\n",
    "norm_customer = np.random.normal(0, 1, len(hour_customer_data['TripDurationSec'].dropna())) \n",
    "\n",
    "subscriber_dist.sort()\n",
    "norm_subscriber.sort()\n",
    "customer_dist.sort()\n",
    "norm_customer.sort()\n",
    "\n",
    "plt.figure(figsize=(15,5))\n",
    "\n",
    "plt.subplot(1,2,1)\n",
    "plt.plot(norm_subscriber, subscriber_dist, 'o')\n",
    "plt.title('Subscriber vs. Normal')\n",
    "plt.xlabel('Normal Variable')\n",
    "plt.ylabel('Trip Duration Secs')\n",
    "\n",
    "plt.subplot(1,2,2)\n",
    "plt.plot(norm_customer, customer_dist, 'o')\n",
    "plt.title('Customer vs. Normal')\n",
    "plt.xlabel('Normal Variable')\n",
    "plt.ylabel('Trip Duration Secs')\n",
    "\n",
    "plt.show()"
   ]
  },
  {
   "cell_type": "code",
   "execution_count": 30,
   "metadata": {},
   "outputs": [],
   "source": [
    "# It seems fairly certain that this data is not normally distributed.\n",
    "#The shape of the histograms represents logistic growth and could be further explored\n",
    "#In ann exponential decay vs normal qq plot."
   ]
  },
  {
   "cell_type": "code",
   "execution_count": 76,
   "metadata": {},
   "outputs": [
    {
     "data": {
      "text/plain": [
       "Text(0,0.5,'Trip Duration Secs')"
      ]
     },
     "execution_count": 76,
     "metadata": {},
     "output_type": "execute_result"
    },
    {
     "data": {
      "image/png": "[encoded data removed]",
      "text/plain": [
       "<Figure size 1080x360 with 2 Axes>"
      ]
     },
     "metadata": {},
     "output_type": "display_data"
    }
   ],
   "source": [
    "#Below we will plot the subscriber and customer vs. an exponential function\n",
    "norm_subscriber = np.random.normal(0, 1, 1000)\n",
    "exp_subscriber = np.random.exponential(scale=1, size=len(hour_subscriber_data['TripDurationSec'].dropna()))\n",
    "exp_customer = np.random.exponential(scale=1, size=len(hour_customer_data['TripDurationSec'].dropna()))\n",
    "\n",
    "exp_subscriber_2.sort()\n",
    "norm_subscriber.sort()\n",
    "exp_subscriber.sort()\n",
    "\n",
    "plt.figure(figsize=(15,5))\n",
    "\n",
    "plt.subplot(1,2,1)\n",
    "plt.plot(exp_subscriber, subscriber_dist, 'o')\n",
    "plt.title('Subscriber vs. Exponential')\n",
    "plt.xlabel('Expontial Variable')\n",
    "plt.ylabel('Trip Duration Secs')\n",
    "\n",
    "plt.subplot(1,2,2)\n",
    "plt.plot(exp_customer, customer_dist, 'o')\n",
    "plt.title('Customer vs. Exponential')\n",
    "plt.xlabel('Exponential Variable')\n",
    "plt.ylabel('Trip Duration Secs')\n",
    "\n"
   ]
  },
  {
   "cell_type": "code",
   "execution_count": 103,
   "metadata": {},
   "outputs": [
    {
     "name": "stdout",
     "output_type": "stream",
     "text": [
      "Ttest_indResult(statistic=-225.20761661281816, pvalue=0.0)\n"
     ]
    }
   ],
   "source": [
    "#Let's take a look at the similarity between our two data groups of \n",
    "#customers and subscribers.\n",
    "\n",
    "from scipy.stats import ttest_ind\n",
    "print(ttest_ind(hour_subscriber_data['TripDurationSec']/60, hour_customer_data['TripDurationSec']/60, equal_var=False))"
   ]
  },
  {
   "cell_type": "markdown",
   "metadata": {},
   "source": [
    "The t test reveals that the multiple data sets are much more different than expected and appear to be fairly confident that they are from different populations.  "
   ]
  },
  {
   "cell_type": "markdown",
   "metadata": {},
   "source": [
    "The subscriber is fairly close to an exponential decay, but customer definetly isn't.  We have two distinct data sets that are definetly not normalized.  "
   ]
  },
  {
   "cell_type": "code",
   "execution_count": 32,
   "metadata": {},
   "outputs": [],
   "source": [
    "morning_subscriber = subscriber_data[(subscriber_data['StartTime'] >\"04:00:00\") & (subscriber_data['StartTime'] < \"10:00:00\")]\n",
    "afternoon_subscriber = subscriber_data[(subscriber_data['StartTime'] >\"10:00:00\") & (subscriber_data['StartTime'] < \"14:00:00\")]\n",
    "evening_subscriber = subscriber_data[(subscriber_data['StartTime'] >\"14:00:00\") & (subscriber_data['StartTime'] < \"19:00:00\")]\n",
    "night_subscriber = subscriber_data[(subscriber_data['StartTime'] >\"19:00:00\") & (subscriber_data['StartTime'] < \"4:00:00\")]"
   ]
  },
  {
   "cell_type": "markdown",
   "metadata": {},
   "source": [
    "# Question 2: \n",
    "\n",
    "Next we will look at the particular areas the bicycles are used.  Are there certain areas that are popular for both subscribers and customers?  Are there a significant amount of round trip bike rides or are the significantly one way rides?"
   ]
  },
  {
   "cell_type": "markdown",
   "metadata": {},
   "source": [
    "Let's begin by evaluating the top 3 stations for the two different kinds of group.  "
   ]
  },
  {
   "cell_type": "code",
   "execution_count": 77,
   "metadata": {},
   "outputs": [
    {
     "data": {
      "text/plain": [
       "200 River St Outdoor Chattanooga         22869\n",
       "100 Walnut St                            20280\n",
       "Hubert Fry Center Tennessee Riverpark    11430\n",
       "Name: StartStationName, dtype: int64"
      ]
     },
     "execution_count": 77,
     "metadata": {},
     "output_type": "execute_result"
    }
   ],
   "source": [
    "customer_data.StartStationName.value_counts().head(3)"
   ]
  },
  {
   "cell_type": "code",
   "execution_count": 78,
   "metadata": {},
   "outputs": [
    {
     "data": {
      "text/plain": [
       "200 River St Outdoor Chattanooga    4273\n",
       "E Main St & Rossville Ave           3761\n",
       "Market St & Cowart St               3601\n",
       "Name: StartStationName, dtype: int64"
      ]
     },
     "execution_count": 78,
     "metadata": {},
     "output_type": "execute_result"
    }
   ],
   "source": [
    "subscriber_data.StartStationName.value_counts().head(3)"
   ]
  },
  {
   "cell_type": "markdown",
   "metadata": {},
   "source": [
    "Here we have made an interesting discovery that the subscribers and customers do not necessarily use the same station the most. I am curious to see if any of the stations are used as a round trip or just a one-way bike."
   ]
  },
  {
   "cell_type": "code",
   "execution_count": 79,
   "metadata": {},
   "outputs": [],
   "source": [
    "subscriber_station = subscriber_data[subscriber_data[\"StartStationName\"] == subscriber_data['EndStationName']]\n",
    "customer_station = customer_data[customer_data['StartStationName'] == customer_data['EndStationName']]"
   ]
  },
  {
   "cell_type": "code",
   "execution_count": 80,
   "metadata": {},
   "outputs": [
    {
     "data": {
      "text/plain": [
       "200 River St Outdoor Chattanooga         7526\n",
       "Hubert Fry Center Tennessee Riverpark    7248\n",
       "100 Walnut St                            6221\n",
       "Name: StartStationName, dtype: int64"
      ]
     },
     "execution_count": 80,
     "metadata": {},
     "output_type": "execute_result"
    }
   ],
   "source": [
    "customer_station.StartStationName.value_counts().head(3)"
   ]
  },
  {
   "cell_type": "code",
   "execution_count": 81,
   "metadata": {},
   "outputs": [
    {
     "data": {
      "text/plain": [
       "Hubert Fry Center Tennessee Riverpark    1489\n",
       "200 River St Outdoor Chattanooga         1467\n",
       "Market St & Cowart St                     740\n",
       "Name: StartStationName, dtype: int64"
      ]
     },
     "execution_count": 81,
     "metadata": {},
     "output_type": "execute_result"
    }
   ],
   "source": [
    "subscriber_station.StartStationName.value_counts().head(3)"
   ]
  },
  {
   "cell_type": "markdown",
   "metadata": {},
   "source": [
    "That's interesting, we can see that most of the roundtrips revolve around a few of the stations.  Some of the most popular stations for the subscriber werent in the total trips.  Lets see what percent of their rides are round trip.  "
   ]
  },
  {
   "cell_type": "code",
   "execution_count": 82,
   "metadata": {
    "scrolled": false
   },
   "outputs": [
    {
     "data": {
      "text/plain": [
       "Text(0.5,1,'Subscriber vs. Subscriber Same Station')"
      ]
     },
     "execution_count": 82,
     "metadata": {},
     "output_type": "execute_result"
    },
    {
     "data": {
      "image/png": "[encoded data removed]",
      "text/plain": [
       "<Figure size 1080x360 with 2 Axes>"
      ]
     },
     "metadata": {},
     "output_type": "display_data"
    }
   ],
   "source": [
    "total_subscriber_station = subscriber_station.shape[0]\n",
    "total_subscriber = subscriber_data.shape[0]\n",
    "total_customer_station = customer_station.shape[0]\n",
    "total_customer = customer_data.shape[0]\n",
    "\n",
    "#Now to easily view this in a graph we will compare the two different groups.\n",
    "plt.figure(figsize=(15,5))\n",
    "\n",
    "plt.subplot(1,2,1)\n",
    "stations = ('Customer', 'Same Station Customer')\n",
    "y_pos = np.arange(len(stations))\n",
    "period = [total_customer, total_customer_station]\n",
    " \n",
    "\n",
    "plt.bar(y_pos, period, align='center', alpha=.5)\n",
    "plt.xticks(y_pos, stations)\n",
    "plt.ylabel('Count')\n",
    "plt.title('Same Station Customer vs. Customer')\n",
    "\n",
    "plt.subplot(1,2,2)\n",
    "stations_2 = ('Subscriber', 'Same Station Subscriber')\n",
    "y_pos = np.arange(len(stations_2))\n",
    "period = [total_subscriber, total_subscriber_station]\n",
    " \n",
    "\n",
    "plt.bar(y_pos, period, align='center', alpha=.5)\n",
    "plt.xticks(y_pos, stations_2)\n",
    "plt.ylabel('Count')\n",
    "plt.title('Subscriber vs. Subscriber Same Station')"
   ]
  },
  {
   "cell_type": "code",
   "execution_count": 83,
   "metadata": {},
   "outputs": [
    {
     "name": "stdout",
     "output_type": "stream",
     "text": [
      "Customer Percent:\n",
      "29.7\n",
      "\n",
      "\n",
      "Subscriber Percent:\n",
      "18.44\n"
     ]
    }
   ],
   "source": [
    "#With this graphic it appears that less subscribers in proportion \n",
    "#take round trip rides than customers.  Let's investigate deeper. \n",
    "\n",
    "print(\"Customer Percent:\")\n",
    "print(round(total_customer_station/total_customer*100,2))\n",
    "print('\\n')\n",
    "print('Subscriber Percent:')\n",
    "print(round(total_subscriber_station/total_subscriber*100,2))"
   ]
  },
  {
   "cell_type": "markdown",
   "metadata": {},
   "source": [
    "That's interesting it appears that customers are significantly more likely to complete a round trip excursion than the subscriber.  "
   ]
  },
  {
   "cell_type": "markdown",
   "metadata": {},
   "source": [
    "This brings up an interesting question of why the customers may be more likely to be round trippers than the subscriber. \n",
    "Taking a look at the geographical positioning of certain stations we can see that the most frequented stations like '200 River' \n",
    "is located near a green belt and these bikes may be a means to better consume the surrounding landscape.  "
   ]
  },
  {
   "cell_type": "markdown",
   "metadata": {},
   "source": [
    "# Question 3: \n",
    "\n",
    "Finally what are the overall trends of bicycle usage throughout the years?  On a month to month basis? Is there a certain time of day when the bicycles are being used?  How serious is temperatures effect on bicycle riding?  Is it statistically significant?\n",
    "\n"
   ]
  },
  {
   "cell_type": "markdown",
   "metadata": {},
   "source": [
    "When investigating the years it was discovered that some errors were made \n",
    "and years such as 2020 and 2031 existed in the data.\n",
    "\n",
    "We will also need to convert part of our data to datetime format to properly call the data and create graphs.  "
   ]
  },
  {
   "cell_type": "code",
   "execution_count": 48,
   "metadata": {},
   "outputs": [
    {
     "data": {
      "text/plain": [
       "<matplotlib.axes._subplots.AxesSubplot at 0x1b265c10>"
      ]
     },
     "execution_count": 48,
     "metadata": {},
     "output_type": "execute_result"
    },
    {
     "data": {
      "image/png": "[encoded data removed]",
      "text/plain": [
       "<Figure size 432x288 with 1 Axes>"
      ]
     },
     "metadata": {},
     "output_type": "display_data"
    }
   ],
   "source": [
    "df['StartDate'] = pd.to_datetime(df['StartDate'])\n",
    "df['StartTime'] = pd.to_datetime(df['StartTime'])\n",
    "\n",
    "df[\"Year\"] = df.StartDate.dt.year\n",
    "clean_year = df[df['Year'] < 2018]\n",
    "\n",
    "clean_year.Year.value_counts().sort_index().plot()"
   ]
  },
  {
   "cell_type": "markdown",
   "metadata": {},
   "source": [
    "Upon further investigation it appears that the program began in 2012 and the 2017 data is incomplete.  "
   ]
  },
  {
   "cell_type": "code",
   "execution_count": 49,
   "metadata": {},
   "outputs": [],
   "source": [
    "#Next we will take a quick look at the amount of usage over the months."
   ]
  },
  {
   "cell_type": "code",
   "execution_count": 50,
   "metadata": {},
   "outputs": [
    {
     "data": {
      "text/plain": [
       "<matplotlib.axes._subplots.AxesSubplot at 0x11161f50>"
      ]
     },
     "execution_count": 50,
     "metadata": {},
     "output_type": "execute_result"
    },
    {
     "data": {
      "image/png": "[encoded data removed]",
      "text/plain": [
       "<Figure size 432x288 with 1 Axes>"
      ]
     },
     "metadata": {},
     "output_type": "display_data"
    }
   ],
   "source": [
    "df['Month'] = df.StartDate.dt.month\n",
    "df. Month.value_counts().sort_index().plot()"
   ]
  },
  {
   "cell_type": "markdown",
   "metadata": {},
   "source": [
    "This is very interesting.  Interest in bicycling severly falls off during the winter months and experiences peaks during spring and summer while suffering a drop during peak summertime.  "
   ]
  },
  {
   "cell_type": "code",
   "execution_count": 84,
   "metadata": {},
   "outputs": [
    {
     "name": "stdout",
     "output_type": "stream",
     "text": [
      "1000\n",
      "18769\n",
      "25627\n",
      "15007\n"
     ]
    }
   ],
   "source": [
    "#Next we will look at bike usage over\n",
    "#certain time intervals in an average day for subscribers.  \n",
    "\n",
    "morning_subscriber = subscriber_data[(subscriber_data['StartTime'] >\"04:00:00\") & (subscriber_data['StartTime'] < \"10:00:00\")]\n",
    "afternoon_subscriber = subscriber_data[(subscriber_data['StartTime'] >\"10:00:00\") & (subscriber_data['StartTime'] < \"14:00:00\")]\n",
    "evening_subscriber = subscriber_data[(subscriber_data['StartTime'] >\"14:00:00\") & (subscriber_data['StartTime'] < \"19:00:00\")]\n",
    "night_subscriber = subscriber_data[(subscriber_data['StartTime'] >\"19:00:00\") & (subscriber_data['StartTime'] < \"4:00:00\")]\n",
    "\n",
    "#Getting counts of how often someone borrowed a bicycle during certain timeframes.\n",
    "morning_count = morning_subscriber.shape[0]\n",
    "afternoon_count = afternoon_subscriber.shape[0]\n",
    "evening_count = evening_subscriber.shape[0]\n",
    "night_count = night_subscriber.shape[0]\n",
    "\n",
    "print(morning_count)\n",
    "print(afternoon_count)\n",
    "print(evening_count)\n",
    "print(night_count)"
   ]
  },
  {
   "cell_type": "code",
   "execution_count": 54,
   "metadata": {},
   "outputs": [
    {
     "data": {
      "text/plain": [
       "Text(0.5,1,'Bike Usage for Subscribers')"
      ]
     },
     "execution_count": 54,
     "metadata": {},
     "output_type": "execute_result"
    },
    {
     "data": {
      "image/png": "[encoded data removed]",
      "text/plain": [
       "<Figure size 432x288 with 1 Axes>"
      ]
     },
     "metadata": {},
     "output_type": "display_data"
    }
   ],
   "source": [
    "time_periods = ('Morning', 'Afternoon', 'Evening', \"Night\")\n",
    "y_pos = np.arange(len(time_periods))\n",
    "period = [morning_count, afternoon_count, evening_count, night_count]\n",
    " \n",
    "\n",
    "plt.bar(y_pos, period, align='center', alpha=.5)\n",
    "plt.xticks(y_pos, time_periods)\n",
    "plt.ylabel('Count')\n",
    "plt.title('Bike Usage for Subscribers')"
   ]
  },
  {
   "cell_type": "markdown",
   "metadata": {},
   "source": [
    "Not what I expected to see.  Bike rides in the morning are by far the least populated class.  This seems to show that the subscribers are not using them for transportation to work as a primary reasoning.  "
   ]
  },
  {
   "cell_type": "markdown",
   "metadata": {},
   "source": [
    "Now we can look at how the temperature will effect people riding their bicycles.  "
   ]
  },
  {
   "cell_type": "code",
   "execution_count": 85,
   "metadata": {},
   "outputs": [
    {
     "name": "stdout",
     "output_type": "stream",
     "text": [
      "   STN---  WBAN    YEARMODA     TEMP         DEWP    .1    SLP      .2  \\\n",
      "0  723240  13882   20110101     56.5  24     51.9    24   1016.7    14   \n",
      "1  723240  13882   20110102     42.3  24     28.8    24   1022.2    24   \n",
      "2  723240  13882   20110103     32.6  24     16.7    24   1026.6    24   \n",
      "3  723240  13882   20110104     37.0  24     23.5    24   1021.3    24   \n",
      "4  723240  13882   20110105     35.2  24     29.7    24   1016.7    23   \n",
      "\n",
      "     STP     ...      .4    WDSP    .5   MXSPD    GUST     MAX      MIN    \\\n",
      "0    991.3   ...      24     5.4    24    15.0    21.0        64     46.9   \n",
      "1    996.7   ...      24     6.4    24    13.0    15.0      60.1       34   \n",
      "2   1001.0   ...      24     2.2    24     8.9   999.9      46.9       23   \n",
      "3    995.9   ...      24     1.3    24     7.0   999.9        54       23   \n",
      "4    991.1   ...      24     1.4    24     8.0   999.9        54       28   \n",
      "\n",
      "   PRCP    SNDP   FRSHTT  \n",
      "0   0.80G  999.9   10010  \n",
      "1   1.72G  999.9       0  \n",
      "2   0.00G  999.9       0  \n",
      "3   0.00G  999.9       0  \n",
      "4   0.00G  999.9   10000  \n",
      "\n",
      "[5 rows x 22 columns]\n",
      "['STN---', 'WBAN ', ' YEARMODA', '   TEMP', '  ', '   DEWP', '  .1', '  SLP  ', '  .2', '  STP  ', '  .3', ' VISIB', '  .4', '  WDSP', '  .5', ' MXSPD', '  GUST', '   MAX  ', '  MIN  ', 'PRCP  ', 'SNDP ', ' FRSHTT']\n"
     ]
    }
   ],
   "source": [
    "#Let's revisit our different possible columns.\n",
    "print(temps.head())\n",
    "print(list(temps.columns.values))"
   ]
  },
  {
   "cell_type": "code",
   "execution_count": 57,
   "metadata": {},
   "outputs": [],
   "source": [
    "#We will attempt to see the differnces in year temperatures.    \n",
    "#We need to isolate for our years active.  \n",
    "#Getting counts of how often someone borrowed a bicycle during certain timeframes.\n",
    "\n",
    "short_temps = temps[temps['YEARMODA'] > 20111231]\n",
    "short_temps = short_temps[short_temps['YEARMODA'] < 20171231]"
   ]
  },
  {
   "cell_type": "code",
   "execution_count": 59,
   "metadata": {},
   "outputs": [
    {
     "data": {
      "text/plain": [
       "Text(0.5,1,'Temperatures over the Years')"
      ]
     },
     "execution_count": 59,
     "metadata": {},
     "output_type": "execute_result"
    },
    {
     "data": {
      "image/png": "[encoded data removed]",
      "text/plain": [
       "<Figure size 432x288 with 1 Axes>"
      ]
     },
     "metadata": {},
     "output_type": "display_data"
    }
   ],
   "source": [
    "plt.scatter(x=short_temps['YEARMODA'], y=short_temps['TEMP'])\n",
    "\n",
    "#plt.xticks('2012', '2013', '2014', '2015', '2016', '2017')\n",
    "plt.ylabel('Temperature in Farenheit')\n",
    "plt.title('Temperatures over the Years')"
   ]
  },
  {
   "cell_type": "markdown",
   "metadata": {},
   "source": [
    "This gives us a brief overview of the different temperatures that Chat will experience throughout the year."
   ]
  },
  {
   "cell_type": "code",
   "execution_count": 60,
   "metadata": {},
   "outputs": [
    {
     "data": {
      "text/plain": [
       "count    2191.000000\n",
       "mean       62.025194\n",
       "std        15.366723\n",
       "min        11.500000\n",
       "25%        49.800000\n",
       "50%        64.800000\n",
       "75%        75.500000\n",
       "max        92.700000\n",
       "Name: TEMP, dtype: float64"
      ]
     },
     "execution_count": 60,
     "metadata": {},
     "output_type": "execute_result"
    }
   ],
   "source": [
    "#Lets take a look at a general description of the max tempurature. \n",
    "short_temps.TEMP.describe()"
   ]
  },
  {
   "cell_type": "code",
   "execution_count": 89,
   "metadata": {},
   "outputs": [
    {
     "name": "stdout",
     "output_type": "stream",
     "text": [
      "     STN---   WBAN  YEARMODA  TEMP      DEWP  .1     SLP  .2    STP  ...    \\\n",
      "546  723240  13882  20120630  91.0  24  66.1  24  1011.2  24  987.3  ...     \n",
      "547  723240  13882  20120701  92.7  24  65.3  24  1013.1  24  989.3  ...     \n",
      "\n",
      "     .4  WDSP  .5  MXSPD   GUST    MAX   MIN    PRCP   SNDP FRSHTT  \n",
      "546  24   1.7  24    8.0  999.9  107.1    70   0.00G  999.9      0  \n",
      "547  24   3.2  24    8.0  999.9  107.1  75.9   0.00G  999.9      0  \n",
      "\n",
      "[2 rows x 22 columns]\n"
     ]
    }
   ],
   "source": [
    "#we can now see that the maximum temperature throughout the data frame is \n",
    "#92.7 Faranheit.  Wow that is fairly warm.  Let's find every day with a mean temperature\n",
    "#over 90 and see if they had any effect on bicycle rentals\n",
    "high_temps = short_temps[short_temps[\"TEMP\"] > 90.00]\n",
    "print(high_temps)"
   ]
  },
  {
   "cell_type": "markdown",
   "metadata": {},
   "source": [
    "Based on what we've found it looks like the only two days with means over 90 were at the end of June and beginning of July.  Due to the fact that the bike program was not around at this time.  This does not provide a reasonable date.  This sample size is a little small so we will lower the cutoff to 87."
   ]
  },
  {
   "cell_type": "code",
   "execution_count": 87,
   "metadata": {},
   "outputs": [
    {
     "name": "stdout",
     "output_type": "stream",
     "text": [
      "      STN---   WBAN  YEARMODA  TEMP      DEWP  .1     SLP  .2    STP  ...    \\\n",
      "545   723240  13882  20120629  87.1  24  63.2  24  1013.7  24  989.7  ...     \n",
      "546   723240  13882  20120630  91.0  24  66.1  24  1011.2  24  987.3  ...     \n",
      "547   723240  13882  20120701  92.7  24  65.3  24  1013.1  24  989.3  ...     \n",
      "554   723240  13882  20120708  87.9  24  69.0  24  1015.4  24  991.4  ...     \n",
      "2000  723240  13882  20160623  87.7  24  66.0  24  1016.5  24  992.5  ...     \n",
      "2028  723240  13882  20160721  87.4  24  68.0  24  1019.1  24  995.1  ...     \n",
      "\n",
      "      .4  WDSP  .5  MXSPD   GUST    MAX   MIN    PRCP   SNDP FRSHTT  \n",
      "545   24   2.7  24    8.0  999.9    106    64   0.00G  999.9      0  \n",
      "546   24   1.7  24    8.0  999.9  107.1    70   0.00G  999.9      0  \n",
      "547   24   3.2  24    8.0  999.9  107.1  75.9   0.00G  999.9      0  \n",
      "554   24   5.2  24   12.0  999.9     99    73   0.00G  999.9      0  \n",
      "2000  24   7.7  24   14.0   20.0     97    73   0.00G  999.9      0  \n",
      "2028  24   3.2  24    8.0  999.9    100  73.9   0.00G  999.9      0  \n",
      "\n",
      "[6 rows x 22 columns]\n"
     ]
    }
   ],
   "source": [
    "high_temps = short_temps[short_temps[\"TEMP\"] > 87.00]\n",
    "\n",
    "print(high_temps)"
   ]
  },
  {
   "cell_type": "markdown",
   "metadata": {},
   "source": [
    "From this data set we can see that on the 23rd of June of 2016 was an incredibly warm day of 87.7.  Now lets compare the rentals on this day in comparison to rentals over the month of june, for this year.  "
   ]
  },
  {
   "cell_type": "code",
   "execution_count": 66,
   "metadata": {},
   "outputs": [
    {
     "data": {
      "text/plain": [
       "Text(0.5,1,'Hottest vs. Average Day')"
      ]
     },
     "execution_count": 66,
     "metadata": {},
     "output_type": "execute_result"
    },
    {
     "data": {
      "image/png": "[encoded data removed]",
      "text/plain": [
       "<Figure size 432x288 with 1 Axes>"
      ]
     },
     "metadata": {},
     "output_type": "display_data"
    }
   ],
   "source": [
    "specific_date = df[(df['StartDate'].dt.month==6) & (df['StartDate'].dt.year==2016) & (df['StartDate'].dt.day==23)]\n",
    "\n",
    "june_data = df[(df['StartDate'].dt.month==6) & (df['StartDate'].dt.year==2016)]\n",
    "\n",
    "date_sum = specific_date.StartDate.value_counts().mean()\n",
    "\n",
    "june_average = june_data.StartDate.value_counts().mean()\n",
    "\n",
    "\n",
    "objects = ('Hottest Day', 'June Average')\n",
    "y_pos = np.arange(len(objects))\n",
    "date = [date_sum, june_average]\n",
    " \n",
    "\n",
    "plt.bar(y_pos, date, align='center', alpha=.5)\n",
    "plt.xticks(y_pos, objects)\n",
    "plt.ylabel('Number of Rides')\n",
    "plt.title('Hottest vs. Average Day')"
   ]
  },
  {
   "cell_type": "markdown",
   "metadata": {},
   "source": [
    "As we can see the june average bicycle rides per day is higher than on the hottest day.  Let's check if our findings are statistically significant.  \n"
   ]
  },
  {
   "cell_type": "code",
   "execution_count": 97,
   "metadata": {},
   "outputs": [
    {
     "name": "stdout",
     "output_type": "stream",
     "text": [
      "count     30.000000\n",
      "mean     172.100000\n",
      "std       74.064906\n",
      "min       70.000000\n",
      "25%      129.000000\n",
      "50%      146.000000\n",
      "75%      186.250000\n",
      "max      367.000000\n",
      "Name: StartDate, dtype: float64\n",
      "Ttest_1sampResult(statistic=2016-06-23    3.557077\n",
      "Name: StartDate, dtype: float64, pvalue=array([0.00131162]))\n"
     ]
    }
   ],
   "source": [
    "#We will begin by finding the standard deviation of the june average\n",
    "\n",
    "print(june_data.StartDate.value_counts().describe())\n",
    "\n",
    "#Now that we can see a bit of what the June data looks like.\n",
    "#Lets perform a one-sample ttest\n",
    "from scipy import stats\n",
    "\n",
    "print(stats.ttest_1samp(june_data.StartDate.value_counts(), specific_date.StartDate.value_counts()))\n"
   ]
  },
  {
   "cell_type": "markdown",
   "metadata": {},
   "source": [
    "Here we can see the likelihood of this specific point being in the data set. There is a very strong likelihood that the hottest day belongs in june based on the p value of the array which is .00131162. "
   ]
  },
  {
   "cell_type": "markdown",
   "metadata": {},
   "source": [
    "# Future Research\n",
    "\n",
    "There have been a lot of assumptions that needed to be made for either formatting, cleansliness, errors and situational understanding.\n",
    "\n",
    "In future research I would like to return to these assumptions and look with a stronger lense at these ideas and thoughts.  In particular I would like to play around with the ideal time on a bicycle and properly look through the data set and be able to determine how the errors were created.  If they were all merely test data or if there is an issue in entry.  \n",
    "\n",
    "For question 1: I would want to look into the effects on specific days of the week and determine which days would be the most likely to have bicycle riders and if so which type of rider would it be.  Understanding this would help the city form a proper maintenance plan of the cycles and create a better understanding of how many bikes they may need out at a time.  \n",
    "\n",
    "For question 3:  I would want to understand and see the effects of rain and other precipitation like snow, and hail on the bike trips.  Even cross comparing this with station usage would be very interesting as I feel like it may illuminate which subscribers use the bikes as their main mode of transportation.  Another interesting facet to drill into would be the wind speed and how it effects bike patterns.  Wind has such a huge effect on peoples ability to cycle comfortably and would be interesting to study.\n",
    "\n",
    "For question 2:  Being able to look at the top station use was very interesting and an interesting place to take that would be involving the user ids and see if the subscriber users use the same bike outposts week in and week out.  To see if you couldn't predict their routes and time frames.\n",
    "\n",
    "Overall, these two data sets combined create a very rich and involved study that was not fully explored in this short capstone.  Looking into these trends will be able to help the city plan their bike service better and with a better understanding of their underlying clientel.  "
   ]
  }
 ],
 "metadata": {
  "kernelspec": {
   "display_name": "Python 3",
   "language": "python",
   "name": "python3"
  },
  "language_info": {
   "codemirror_mode": {
    "name": "ipython",
    "version": 3
   },
   "file_extension": ".py",
   "mimetype": "text/x-python",
   "name": "python",
   "nbconvert_exporter": "python",
   "pygments_lexer": "ipython3",
   "version": "3.6.5"
  }
 },
 "nbformat": 4,
 "nbformat_minor": 2
}
